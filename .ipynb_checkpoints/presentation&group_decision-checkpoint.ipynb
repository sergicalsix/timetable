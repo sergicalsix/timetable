{
 "cells": [
  {
   "cell_type": "code",
   "execution_count": 1,
   "metadata": {},
   "outputs": [
    {
     "name": "stdout",
     "output_type": "stream",
     "text": [
      "10/22 宮田\n",
      "10/29 舟橋\n",
      "10/29 小茂鳥\n",
      "11/5 尾上\n",
      "11/5 尾上\n",
      "11/12 宮田\n",
      "11/12 竹村\n",
      "11/19 宮田\n",
      "11/19 舟橋\n",
      "11/26 宮田\n",
      "11/26 宮田\n",
      "12/3 尾上\n",
      "12/3 宮田\n"
     ]
    }
   ],
   "source": [
    "import random \n",
    "import pandas as pd\n",
    "random.seed(42)\n",
    "lab_mem = ('舟橋 '* 2 + '小茂鳥 '* 1+ '尾上 ' * 3 +'須藤&山下 '* 0 + '宮田 ' * 6 + '竹村 ' * 1).split()\n",
    "date_ = ('10/22 ' * 1 + '10/29 ' * 2 + '11/5 ' * 2 + '11/12 ' * 2 + '11/19 ' * 2 + '11/26 ' * 2 + '12/3 ' * 2).split()\n",
    "\n",
    "#labの個数でshuffle\n",
    "for _ in range(6):\n",
    "    random.shuffle(lab_mem)\n",
    "\n",
    "for m, d in zip(lab_mem, date_):\n",
    "    print(d,m)\n"
   ]
  },
  {
   "cell_type": "code",
   "execution_count": 3,
   "metadata": {},
   "outputs": [
    {
     "name": "stdout",
     "output_type": "stream",
     "text": [
      "10/22 ガイダンス 尾上\n",
      "10/29 宮田 尾上\n",
      "11/5 小茂鳥 宮田\n",
      "11/12 宮田 舟橋\n",
      "11/19 竹村 宮田\n",
      "12/3 宮田 舟橋\n",
      "12/10 尾上 宮田\n"
     ]
    },
    {
     "data": {
      "text/html": [
       "<div>\n",
       "<style scoped>\n",
       "    .dataframe tbody tr th:only-of-type {\n",
       "        vertical-align: middle;\n",
       "    }\n",
       "\n",
       "    .dataframe tbody tr th {\n",
       "        vertical-align: top;\n",
       "    }\n",
       "\n",
       "    .dataframe thead th {\n",
       "        text-align: right;\n",
       "    }\n",
       "</style>\n",
       "<table border=\"1\" class=\"dataframe\">\n",
       "  <thead>\n",
       "    <tr style=\"text-align: right;\">\n",
       "      <th></th>\n",
       "      <th>前半</th>\n",
       "      <th>後半</th>\n",
       "    </tr>\n",
       "  </thead>\n",
       "  <tbody>\n",
       "    <tr>\n",
       "      <th>10/22</th>\n",
       "      <td>ガイダンス</td>\n",
       "      <td>尾上</td>\n",
       "    </tr>\n",
       "    <tr>\n",
       "      <th>10/29</th>\n",
       "      <td>宮田</td>\n",
       "      <td>尾上</td>\n",
       "    </tr>\n",
       "    <tr>\n",
       "      <th>11/5</th>\n",
       "      <td>小茂鳥</td>\n",
       "      <td>宮田</td>\n",
       "    </tr>\n",
       "    <tr>\n",
       "      <th>11/12</th>\n",
       "      <td>宮田</td>\n",
       "      <td>舟橋</td>\n",
       "    </tr>\n",
       "    <tr>\n",
       "      <th>11/19</th>\n",
       "      <td>竹村</td>\n",
       "      <td>宮田</td>\n",
       "    </tr>\n",
       "    <tr>\n",
       "      <th>12/3</th>\n",
       "      <td>宮田</td>\n",
       "      <td>舟橋</td>\n",
       "    </tr>\n",
       "    <tr>\n",
       "      <th>12/10</th>\n",
       "      <td>尾上</td>\n",
       "      <td>宮田</td>\n",
       "    </tr>\n",
       "  </tbody>\n",
       "</table>\n",
       "</div>"
      ],
      "text/plain": [
       "          前半  後半\n",
       "10/22  ガイダンス  尾上\n",
       "10/29     宮田  尾上\n",
       "11/5     小茂鳥  宮田\n",
       "11/12     宮田  舟橋\n",
       "11/19     竹村  宮田\n",
       "12/3      宮田  舟橋\n",
       "12/10     尾上  宮田"
      ]
     },
     "execution_count": 3,
     "metadata": {},
     "output_type": "execute_result"
    }
   ],
   "source": [
    "# 恣意的なshuffle\n",
    "#date_ = ('10/22 ' * 1 + '10/29 ' * 2 + '11/5 ' * 2 + '11/12 ' * 2 + '11/19 ' * 2 + '11/26 ' * 2 + '12/3 ' * 2).split()\n",
    "date_ = ('10/22 ' * 1 + '10/29 ' * 1 + '11/5 ' * 1 + '11/12 ' * 1 + '11/19 ' * 1 + '12/3 ' * 1 + '12/10 ' * 1).split()\n",
    "#date_ = list(set(date_))\n",
    "#date_ = sorted(date_)\n",
    "lab_mem = ('舟橋 '* 2 + '小茂鳥 '* 1+ '尾上 ' * 2 +'須藤&山下 '* 0 + '宮田 ' * 0 + '竹村 ' * 1).split()\n",
    "random.shuffle(lab_mem)\n",
    "random.shuffle(lab_mem)\n",
    "\n",
    "first_ , second_= [], []\n",
    "for i,d in enumerate(date_):\n",
    "    if i == 0:\n",
    "        print(d,'ガイダンス','尾上')\n",
    "        first_.append('ガイダンス')\n",
    "        second_.append('尾上')\n",
    "    elif i % 2 == 0:\n",
    "        print(d,lab_mem[i-1],'宮田')\n",
    "        first_.append(lab_mem[i-1])\n",
    "        second_.append('宮田')\n",
    "    else:\n",
    "        print(d,'宮田',lab_mem[i-1])\n",
    "        second_.append(lab_mem[i-1])\n",
    "        first_.append('宮田')\n",
    "df = pd.DataFrame()\n",
    "\n",
    "df['前半'] = first_\n",
    "df['後半'] = second_\n",
    "df.index = date_\n",
    "df"
   ]
  },
  {
   "cell_type": "code",
   "execution_count": 42,
   "metadata": {},
   "outputs": [],
   "source": [
    "df.to_csv('presentation_date.csv')"
   ]
  },
  {
   "cell_type": "markdown",
   "metadata": {},
   "source": [
    "# グループ分け"
   ]
  },
  {
   "cell_type": "code",
   "execution_count": 5,
   "metadata": {},
   "outputs": [
    {
     "name": "stdout",
     "output_type": "stream",
     "text": [
      "33\n"
     ]
    }
   ],
   "source": [
    "random.seed(42)\n",
    "lab_mem = ('舟橋 '* 6 + '小茂鳥 '* 4+ '尾上 ' * 9 +'須藤&山下 '* 2 + '宮田 ' * 9 + '竹村 ' * 3).split()\n",
    "print(len(lab_mem))"
   ]
  },
  {
   "cell_type": "code",
   "execution_count": 16,
   "metadata": {},
   "outputs": [
    {
     "name": "stdout",
     "output_type": "stream",
     "text": [
      "15\n"
     ]
    }
   ],
   "source": [
    "# 9\n",
    "lab_mem = ('舟橋 '* 6 + '小茂鳥 '* 4+'須藤&山下 '* 2 + '竹村 ' * 3).split()\n",
    "print(len(lab_mem))"
   ]
  },
  {
   "cell_type": "code",
   "execution_count": 21,
   "metadata": {},
   "outputs": [
    {
     "name": "stdout",
     "output_type": "stream",
     "text": [
      "\n",
      "1回目の割り振り\n",
      "\n",
      "group1:尾上,宮田,竹村,小茂鳥 \n",
      "group2:尾上,宮田,竹村,小茂鳥 \n",
      "group3:尾上,宮田,舟橋,須藤&山下 \n",
      "group4:尾上,宮田,須藤&山下,小茂鳥 \n",
      "group5:尾上,宮田,竹村,舟橋 \n",
      "group6:尾上,宮田,舟橋,小茂鳥 \n",
      "group7:尾上,宮田,舟橋\n",
      "group8:尾上,宮田,舟橋\n",
      "group9:尾上,宮田,舟橋\n",
      "\n",
      "2回目の割り振り\n",
      "\n",
      "group1:尾上,宮田,舟橋,須藤&山下 \n",
      "group2:尾上,宮田,竹村,舟橋 \n",
      "group3:尾上,宮田,小茂鳥,舟橋 \n",
      "group4:尾上,宮田,竹村,須藤&山下 \n",
      "group5:尾上,宮田,竹村,舟橋 \n",
      "group6:尾上,宮田,舟橋,小茂鳥 \n",
      "group7:尾上,宮田,舟橋\n",
      "group8:尾上,宮田,小茂鳥\n",
      "group9:尾上,宮田,小茂鳥\n",
      "\n",
      "3回目の割り振り\n",
      "\n",
      "group1:尾上,宮田,竹村,舟橋 \n",
      "group2:尾上,宮田,舟橋,小茂鳥 \n",
      "group3:尾上,宮田,舟橋,小茂鳥 \n",
      "group4:尾上,宮田,小茂鳥,舟橋 \n",
      "group5:尾上,宮田,須藤&山下,竹村 \n",
      "group6:尾上,宮田,舟橋,竹村 \n",
      "group7:尾上,宮田,須藤&山下\n",
      "group8:尾上,宮田,小茂鳥\n",
      "group9:尾上,宮田,舟橋\n"
     ]
    }
   ],
   "source": [
    "#9グループ\n",
    "\n",
    "#print(len(lab_mem))\n",
    "\n",
    "for j in range(3):\n",
    "    print(f'\\n{j+1}回目の割り振り\\n')\n",
    "    random.seed(j)\n",
    "    lab_mem = ('舟橋 '* 6 + '小茂鳥 '* 4+'須藤&山下 '* 2 + '竹村 ' * 3).split()\n",
    "    for i in range(1,10):\n",
    "        mem1 = random.choice(lab_mem)\n",
    "        lab_mem.remove(mem1)\n",
    "        while i <= 6:\n",
    "            mem2 = random.choice(lab_mem)\n",
    "            if mem1 != mem2:\n",
    "                lab_mem.remove(mem2)\n",
    "                break\n",
    "\n",
    "        if i <=6:\n",
    "            mem = f\"尾上,宮田,{mem1},{mem2} \" \n",
    "        else:\n",
    "            mem = f\"尾上,宮田,{mem1}\" \n",
    "\n",
    "        print(f\"group{i}:{mem}\")\n",
    "    #print(len(lab_mem))"
   ]
  },
  {
   "cell_type": "code",
   "execution_count": 14,
   "metadata": {},
   "outputs": [
    {
     "data": {
      "text/plain": [
       "'須藤&山下'"
      ]
     },
     "execution_count": 14,
     "metadata": {},
     "output_type": "execute_result"
    }
   ],
   "source": [
    "random.choice(lab_mem)"
   ]
  },
  {
   "cell_type": "code",
   "execution_count": 15,
   "metadata": {},
   "outputs": [
    {
     "name": "stdout",
     "output_type": "stream",
     "text": [
      "14\n"
     ]
    }
   ],
   "source": [
    "mem1 = random.choice(lab_mem)\n",
    "lab_mem.remove(mem1)\n",
    "print(len(lab_mem))"
   ]
  },
  {
   "cell_type": "code",
   "execution_count": null,
   "metadata": {},
   "outputs": [],
   "source": []
  }
 ],
 "metadata": {
  "kernelspec": {
   "display_name": "Python 3",
   "language": "python",
   "name": "python3"
  },
  "language_info": {
   "codemirror_mode": {
    "name": "ipython",
    "version": 3
   },
   "file_extension": ".py",
   "mimetype": "text/x-python",
   "name": "python",
   "nbconvert_exporter": "python",
   "pygments_lexer": "ipython3",
   "version": "3.7.11"
  }
 },
 "nbformat": 4,
 "nbformat_minor": 4
}
